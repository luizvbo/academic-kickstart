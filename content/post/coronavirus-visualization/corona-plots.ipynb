{
 "cells": [
  {
   "cell_type": "code",
   "execution_count": null,
   "metadata": {},
   "outputs": [],
   "source": [
    "!pip install pandas matplotlib seaborn"
   ]
  },
  {
   "cell_type": "code",
   "execution_count": 1,
   "metadata": {},
   "outputs": [],
   "source": [
    "import pandas as pd\n",
    "import matplotlib.pyplot as plt\n",
    "from ipywidgets import interact, fixed\n",
    "import seaborn as sns\n",
    "\n",
    "from pandas.plotting import register_matplotlib_converters\n",
    "register_matplotlib_converters()"
   ]
  },
  {
   "cell_type": "code",
   "execution_count": 2,
   "metadata": {},
   "outputs": [],
   "source": [
    "path_confirmed = (\"https://raw.githubusercontent.com/CSSEGISandData/COVID-19/master/\"\n",
    "                  \"csse_covid_19_data/csse_covid_19_time_series/time_series_19-covid-Confirmed.csv\")\n",
    "path_death = (\"https://raw.githubusercontent.com/CSSEGISandData/COVID-19/master/\"\n",
    "              \"csse_covid_19_data/csse_covid_19_time_series/time_series_19-covid-Deaths.csv\") \n",
    "path_recovered = (\"https://raw.githubusercontent.com/CSSEGISandData/COVID-19/master/\"\n",
    "                  \"csse_covid_19_data/csse_covid_19_time_series/time_series_19-covid-Recovered.csv\")"
   ]
  },
  {
   "cell_type": "code",
   "execution_count": 3,
   "metadata": {},
   "outputs": [],
   "source": [
    "def set_index(df):\n",
    "    # Set region, country, lat and long as index\n",
    "    index = pd.MultiIndex.from_frame(df.iloc[:, :4])\n",
    "    # Set the index and transpose\n",
    "    df = df.iloc[:, 4:].set_index(index).T\n",
    "    # Set date as index\n",
    "    return df.set_index(pd.to_datetime(df.index, dayfirst=False))\n",
    "\n",
    "df_conf = pd.read_csv(path_confirmed)\n",
    "df_conf = set_index(df_conf)"
   ]
  },
  {
   "cell_type": "code",
   "execution_count": 16,
   "metadata": {},
   "outputs": [
    {
     "data": {
      "application/vnd.jupyter.widget-view+json": {
       "model_id": "a7cc21daaedf46168a6bc6fe7345b337",
       "version_major": 2,
       "version_minor": 0
      },
      "text/plain": [
       "interactive(children=(Dropdown(description='country_a', options=('No country', 'Afghanistan', 'Albania', 'Alge…"
      ]
     },
     "metadata": {},
     "output_type": "display_data"
    }
   ],
   "source": [
    "import matplotlib.dates as mdates\n",
    "\n",
    "\n",
    "def my_widget(df_input, figsize=(20,5)):\n",
    "    df_input[(None, 'Total', None, None)] = df_input.groupby(level=1, axis=1).sum().sum(axis=1)\n",
    "        \n",
    "    countries = ['No country'] + df_input.columns.get_level_values(1).unique().sort_values().tolist()\n",
    "    \n",
    "    @interact(country_a=countries, \n",
    "              country_b=countries, \n",
    "              country_c=countries, \n",
    "              start_date=df_conf.index, \n",
    "              end_date=df_conf.index,\n",
    "              daily_var=False)\n",
    "    def plot_range(country_a, \n",
    "                   country_b, \n",
    "                   country_c, \n",
    "                   start_date, \n",
    "                   end_date,\n",
    "                   daily_var):\n",
    "        df = (\n",
    "            df_input\n",
    "            .groupby(level=1, axis=1).sum()\n",
    "            .loc[lambda df: (df.index >= start_date) &  (df.index <= end_date)]\n",
    "        )\n",
    "\n",
    "        if daily_var:\n",
    "            df -= df.shift()\n",
    "        \n",
    "        df = (\n",
    "            df\n",
    "            .loc[:, lambda df: df.columns.get_level_values('Country/Region').isin([country_a, \n",
    "                                                                                   country_b, \n",
    "                                                                                   country_c])]\n",
    "            .reset_index()\n",
    "            .melt(id_vars='index')\n",
    "            .rename(columns={\"index\": \"Date\", \"value\": \"Count\"})\n",
    "        )\n",
    "\n",
    "    \n",
    "        plt.figure(figsize=figsize)\n",
    "\n",
    "        if daily_var:\n",
    "            ax = sns.barplot(x=\"Date\", y=\"Count\", hue=\"Country/Region\", data=df)\n",
    "        else:\n",
    "            ax = sns.lineplot(x=\"Date\", y=\"Count\", hue=\"Country/Region\", data=df)\n",
    "\n",
    "        ax.fmt_xdata = mdates.DateFormatter('%Y-%m-%d')\n",
    "        ax.grid(True)\n",
    "        plt.xticks(rotation=45);\n",
    "\n",
    "my_widget(df_conf.rename(columns={'Others': 'Diamond Princess'}))"
   ]
  },
  {
   "cell_type": "code",
   "execution_count": null,
   "metadata": {},
   "outputs": [],
   "source": []
  },
  {
   "cell_type": "code",
   "execution_count": null,
   "metadata": {},
   "outputs": [],
   "source": []
  }
 ],
 "metadata": {
  "kernelspec": {
   "display_name": "Python 3",
   "language": "python",
   "name": "python3"
  },
  "language_info": {
   "codemirror_mode": {
    "name": "ipython",
    "version": 3
   },
   "file_extension": ".py",
   "mimetype": "text/x-python",
   "name": "python",
   "nbconvert_exporter": "python",
   "pygments_lexer": "ipython3",
   "version": "3.6.9"
  }
 },
 "nbformat": 4,
 "nbformat_minor": 4
}
